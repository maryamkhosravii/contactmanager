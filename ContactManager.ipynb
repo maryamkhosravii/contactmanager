{
 "cells": [
  {
   "cell_type": "code",
   "execution_count": 1,
   "id": "e7ddad5a",
   "metadata": {},
   "outputs": [
    {
     "name": "stderr",
     "output_type": "stream",
     "text": [
      "<>:50: SyntaxWarning: invalid escape sequence '\\c'\n",
      "<>:50: SyntaxWarning: invalid escape sequence '\\c'\n",
      "C:\\Users\\ASUS\\AppData\\Local\\Temp\\ipykernel_8924\\3038145370.py:50: SyntaxWarning: invalid escape sequence '\\c'\n",
      "  with open (\".\\contact_list.json\", \"w\") as f:\n"
     ]
    }
   ],
   "source": [
    "import json\n",
    "class ContactManager():\n",
    "         def __init__(self, path=\"-\"):\n",
    "            self.contact_list = []\n",
    "        \n",
    "            if path != \"-\":\n",
    "             print ('Loading Previous contacts...')\n",
    "            with open (path, \"r\") as f:\n",
    "                data=f.read()\n",
    "                self.contact_list=json.loads(data)\n",
    "            print(\"Loaded\")\n",
    "\n",
    "\n",
    "\n",
    "            def add(self, name, number, email):\n",
    "                for item in self.contact_list:\n",
    "                    if item['name'].lower() == name.lower():\n",
    "                      print (f\"Contact with name {name} already exists.\")\n",
    "                    else:\n",
    "                     self.contact_list.append({\n",
    "                        'name': name,\n",
    "                        'number': number,\n",
    "                        'email': email\n",
    "                    })\n",
    "                    print(f\"Contact {name} has been added\")\n",
    "\n",
    "\n",
    "\n",
    "            def delete(self, name):\n",
    "                for item in self.contact_list:\n",
    "                    if item.name.lower()==name.lower():\n",
    "                        self.contact_list.remove(item)\n",
    "                        print (f\"Contact {name} has been deleted\")\n",
    "                    else:\n",
    "                        print('Contact not found to delete')\n",
    "\n",
    "\n",
    "\n",
    "            def search (self, name):\n",
    "                result=[]\n",
    "                for item in self.contact_list:\n",
    "                    if name.lower() in item[\"name\"].lower():\n",
    "                        result.append(item)\n",
    "                print('searching finished')\n",
    "                print (result)\n",
    "\n",
    "\n",
    "\n",
    "            def backup(self):\n",
    "             with open (\".\\contact_list.json\", \"w\") as f:\n",
    "                    f.write(json.dumps(self.contact_list))\n",
    "             print ('Backup Done.')\n",
    "\n",
    "\n",
    "\n",
    "            def display (self):\n",
    "               if not self.contact_list:\n",
    "                print ('Contact List is Empty')\n",
    "               else:\n",
    "                  print(f\"Your Contacts List:\\n {self.contact_list}\")\n",
    "\n",
    "\n",
    "\n",
    "\n",
    "\n",
    "\n",
    "    "
   ]
  }
 ],
 "metadata": {
  "kernelspec": {
   "display_name": "Python 3",
   "language": "python",
   "name": "python3"
  },
  "language_info": {
   "codemirror_mode": {
    "name": "ipython",
    "version": 3
   },
   "file_extension": ".py",
   "mimetype": "text/x-python",
   "name": "python",
   "nbconvert_exporter": "python",
   "pygments_lexer": "ipython3",
   "version": "3.13.3"
  }
 },
 "nbformat": 4,
 "nbformat_minor": 5
}
